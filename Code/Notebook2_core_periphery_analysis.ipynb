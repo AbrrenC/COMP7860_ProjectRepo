{
 "cells": [
  {
   "cell_type": "markdown",
   "metadata": {},
   "source": [
    "### 1. Network Analysis"
   ]
  },
  {
   "cell_type": "code",
   "execution_count": 1,
   "metadata": {},
   "outputs": [],
   "source": [
    "# Import libraries \n",
    "import cpnet # cpnet==0.0.20\n",
    "import community \n",
    "import community.community_louvain\n",
    "import numpy as np # version: 1.23.2\n",
    "import pandas as pd # version: 1.5.0\n",
    "import networkx as nx # version: 2.8.7\n",
    "import matplotlib.pyplot as plt # version: 3.6.0"
   ]
  },
  {
   "cell_type": "markdown",
   "metadata": {},
   "source": [
    "#### Data loading and cleaning"
   ]
  },
  {
   "cell_type": "code",
   "execution_count": 9,
   "metadata": {},
   "outputs": [],
   "source": [
    "# load the processed dataset\n",
    "df = pd.read_csv('New_Data/AAVE_transaction_data_after_preprocessing_New.csv')\n",
    "# df = pd.read_csv('Existing_Data/AAVE_transaction_data_after_preprocessing.csv')"
   ]
  },
  {
   "cell_type": "code",
   "execution_count": 10,
   "metadata": {},
   "outputs": [],
   "source": [
    "# clean the time stamp columns\n",
    "df_time_partition= df.groupby(['timestamp'])['to_address'].agg(['nunique']).reset_index()\n",
    "df_time_partition = df_time_partition.drop(['nunique'], axis=1)"
   ]
  },
  {
   "cell_type": "markdown",
   "metadata": {},
   "source": [
    "#### Number of transaction over the selected period"
   ]
  },
  {
   "cell_type": "code",
   "execution_count": 11,
   "metadata": {},
   "outputs": [
    {
     "data": {
      "text/plain": [
       "<AxesSubplot:title={'center':'Monthly Transaction count'}, xlabel='Month_Year'>"
      ]
     },
     "execution_count": 11,
     "metadata": {},
     "output_type": "execute_result"
    },
    {
     "data": {
      "image/png": "[encoded data removed]",
      "text/plain": [
       "<Figure size 432x288 with 1 Axes>"
      ]
     },
     "metadata": {
      "needs_background": "light"
     },
     "output_type": "display_data"
    }
   ],
   "source": [
    "# create a new month_year column\n",
    "df['Month_Year'] = df[\"timestamp\"].apply(lambda x: x[:len(x)-3])\n",
    "# create the count dataframe\n",
    "df_count = df.groupby([\"Month_Year\"])[\"Month_Year\"].count()\n",
    "# plot the transaction bar chart\n",
    "df_count.plot(kind=\"bar\", title=\"Monthly Transaction count\")"
   ]
  },
  {
   "cell_type": "markdown",
   "metadata": {},
   "source": [
    "#### a. Number of daily edges and nodes"
   ]
  },
  {
   "cell_type": "code",
   "execution_count": 12,
   "metadata": {},
   "outputs": [],
   "source": [
    "num_nodes = []\n",
    "num_edges = []\n",
    "for i in range(0,len(df_time_partition)):\n",
    "    \n",
    "    # Data Partition\n",
    "    df_1 = df.loc[df['timestamp']==df_time_partition['timestamp'][i]]\n",
    "    \n",
    "    # MultiDi Network Building (weighted-directed graph)\n",
    "    G = nx.from_pandas_edgelist(df_1, 'from_address', 'to_address', 'value', nx.Graph())\n",
    "    \n",
    "    # Calculation of Number of nodes, number of edges\n",
    "    nodes = G.number_of_nodes()\n",
    "    edges = G.number_of_edges()\n",
    "    num_nodes.append(nodes)\n",
    "    num_edges.append(edges)"
   ]
  },
  {
   "cell_type": "code",
   "execution_count": 13,
   "metadata": {},
   "outputs": [],
   "source": [
    "Network_Features={\"num_nodes\" : num_nodes,\"num_edges\" : num_edges}\n",
    "Network_Features=pd.DataFrame(Network_Features)\n",
    "Network_Features['time'] =  df_time_partition['timestamp']"
   ]
  },
  {
   "cell_type": "markdown",
   "metadata": {},
   "source": [
    "#### b. Degree"
   ]
  },
  {
   "cell_type": "code",
   "execution_count": 6,
   "metadata": {},
   "outputs": [],
   "source": [
    "Degreemean = []\n",
    "Degreestd = []\n",
    "for i in range(0,len(df_time_partition)):\n",
    "    \n",
    "    # Data Partition\n",
    "    df_1 = df.loc[df['timestamp']==df_time_partition['timestamp'][i]]\n",
    "    #df_1 = actsenrec.loc[actsenrec['timestamp']==df_time_partition['timestamp'][i]]\n",
    "    \n",
    "    # MultiDi Network Building (weighted-directed graph)\n",
    "    G = nx.from_pandas_edgelist(df_1, 'from_address', 'to_address', 'value', nx.Graph())\n",
    "    \n",
    "    # Calculation of Degree_centrality, mean_value\n",
    "    degrees = G.degree()\n",
    "    degree = list(dict(G.degree()).values())\n",
    "    df_deg = {\"Degree\" : degree}\n",
    "    df_deg = pd.DataFrame(df_deg)\n",
    "    DC_mean = df_deg['Degree'].mean()\n",
    "    DC_std = df_deg['Degree'].std()\n",
    "    Degreemean.append(DC_mean)\n",
    "    Degreestd.append(DC_std)"
   ]
  },
  {
   "cell_type": "code",
   "execution_count": 7,
   "metadata": {},
   "outputs": [],
   "source": [
    "Network_Features['Degree mean']  = Degreemean\n",
    "Network_Features['Degree std']  = Degreestd"
   ]
  },
  {
   "cell_type": "markdown",
   "metadata": {},
   "source": [
    "#### c. Top 10 addresses degree ratio"
   ]
  },
  {
   "cell_type": "code",
   "execution_count": 8,
   "metadata": {},
   "outputs": [],
   "source": [
    "top10Degreemean = []\n",
    "top10Degreestd = []\n",
    "\n",
    "for i in range(0,len(df_time_partition)):\n",
    "\n",
    "    df_1 = df.loc[df['timestamp']==df_time_partition['timestamp'][i]]\n",
    "    sender_mdegree= df_1.groupby(['from_address'])['to_address'].count().reset_index()\n",
    "    receiver_mdegree = df_1.groupby(['to_address'])['from_address'].count().reset_index()\n",
    "    sender_mdegree = sender_mdegree.rename(columns={'to_address':'degree'})\n",
    "    sender_mdegree = sender_mdegree.rename(columns={'from_address':'address'})\n",
    "    receiver_mdegree = receiver_mdegree.rename(columns = {'from_address':'degree'})\n",
    "    receiver_mdegree = receiver_mdegree.rename(columns = {'to_address':'address'})\n",
    "\n",
    "    merge = pd.merge(sender_mdegree,receiver_mdegree,on=\"address\",how = \"outer\")\n",
    "    merge = merge.fillna(int(0))\n",
    "    merge['degree'] = merge['degree_x']+merge['degree_y']\n",
    "\n",
    "    merge.sort_values(by=['degree'], ascending=False, inplace=True)\n",
    "    merge = merge.reset_index()\n",
    "    top5degree = merge['address'][0:10].tolist()\n",
    "\n",
    "    sen_top =  df_1[df_1['from_address'].isin(top5degree)]\n",
    "    rec_top= df_1[df_1['to_address'].isin(top5degree)]\n",
    "\n",
    "    topaddress = pd.concat([sen_top,rec_top]).drop_duplicates()\n",
    "\n",
    "    G = nx.from_pandas_edgelist(topaddress, 'from_address', 'to_address', 'value', nx.Graph())\n",
    "    # Calculation of absolute degree\n",
    "    degree = []\n",
    "    for j in range (0,10):\n",
    "        degrees = G.degree(top5degree[j])\n",
    "        degree.append(degrees)\n",
    "    df_deg = {\"Degree\" : degree}\n",
    "    df_deg = pd.DataFrame(df_deg)\n",
    "    deg_mean = df_deg['Degree'].mean()\n",
    "    deg_std = df_deg['Degree'].std()\n",
    "    top10Degreemean.append(deg_mean)\n",
    "    top10Degreestd.append(deg_std)"
   ]
  },
  {
   "cell_type": "code",
   "execution_count": 9,
   "metadata": {},
   "outputs": [],
   "source": [
    "Network_Features['Top10Degree mean']  = top10Degreemean\n",
    "Network_Features['Top10Degree std']  = top10Degreestd\n",
    "Network_Features['Top10 Degree mean ratio']  = Network_Features['Top10Degree mean']/Network_Features['Degree mean']"
   ]
  },
  {
   "cell_type": "markdown",
   "metadata": {},
   "source": [
    "d. Degree centrality"
   ]
  },
  {
   "cell_type": "code",
   "execution_count": 10,
   "metadata": {},
   "outputs": [],
   "source": [
    "DCmean = []\n",
    "DCstd = []\n",
    "for i in range(0,len(df_time_partition)):\n",
    "    \n",
    "    # Data Partition\n",
    "    df_1 = df.loc[df['timestamp']==df_time_partition['timestamp'][i]]\n",
    "    #df_1 = actsenrec.loc[actsenrec['timestamp']==df_time_partition['timestamp'][i]]\n",
    "    \n",
    "    # MultiDi Network Building (weighted-directed graph)\n",
    "    G = nx.from_pandas_edgelist(df_1, 'from_address', 'to_address', 'value', nx.Graph())\n",
    "    \n",
    "    # Calculation of Degree_centrality, mean_value\n",
    "    deg_cen = nx.degree_centrality(G)\n",
    "    df_deg = pd.DataFrame.from_dict(deg_cen, orient='index', columns=['Degree_Centrality'])\n",
    "    DC_mean = df_deg['Degree_Centrality'].mean()\n",
    "    DC_std = df_deg['Degree_Centrality'].std()\n",
    "    DCmean.append(DC_mean)\n",
    "    DCstd.append(DC_std)"
   ]
  },
  {
   "cell_type": "markdown",
   "metadata": {},
   "source": [
    "#### e. Clustering coefficient"
   ]
  },
  {
   "cell_type": "code",
   "execution_count": 11,
   "metadata": {},
   "outputs": [],
   "source": [
    "clustermean = []\n",
    "clusterstd = []\n",
    "for i in range(0,len(df_time_partition)):\n",
    "    \n",
    "    # Data Partition\n",
    "    df_1 = df.loc[df['timestamp']==df_time_partition['timestamp'][i]]\n",
    "    #df_1 = actsenrec.loc[actsenrec['timestamp']==df_time_partition['timestamp'][i]]\n",
    "    \n",
    "    # Unweighted-Directed Network Building (weighted-directed graph)\n",
    "    G = nx.from_pandas_edgelist(df_1, 'from_address', 'to_address', 'value', nx.Graph())\n",
    "    \n",
    "    # Calculation of Clustering_Coefficient, mean_value, std\n",
    "    clustering = nx.clustering(G)\n",
    "    df_cluster = pd.DataFrame.from_dict(clustering, orient='index', columns=['Clustering_Coefficient'])\n",
    "    cluster_mean = df_cluster['Clustering_Coefficient'].mean()\n",
    "    cluster_std = df_cluster['Clustering_Coefficient'].std()\n",
    "    clustermean.append(cluster_mean)\n",
    "    clusterstd.append(cluster_std)"
   ]
  },
  {
   "cell_type": "markdown",
   "metadata": {},
   "source": [
    "#### f. Modularity"
   ]
  },
  {
   "cell_type": "code",
   "execution_count": 12,
   "metadata": {},
   "outputs": [],
   "source": [
    "mod_list = []\n",
    "for i in range(0,len(df_time_partition)):\n",
    "    \n",
    "    # Data Partition\n",
    "    df_1 = df.loc[df['timestamp']==df_time_partition['timestamp'][i]]\n",
    "    #df_1 = actsenrec.loc[actsenrec['timestamp']==df_time_partition['timestamp'][i]]\n",
    "    \n",
    "    # unweighted-undirected Network Building (weighted-directed graph)\n",
    "    G = nx.from_pandas_edgelist(df_1, 'from_address', 'to_address', 'value', nx.Graph())\n",
    "    \n",
    "    # Calculation of modularity\n",
    "    # part = community.best_partition(G)\n",
    "    # mod = community.modularity(part,G)\n",
    "    part = community.community_louvain.best_partition(G)\n",
    "    mod = community.community_louvain.modularity(part,G)\n",
    "    mod_list.append(mod)"
   ]
  },
  {
   "cell_type": "markdown",
   "metadata": {},
   "source": [
    "#### g. Transitivity"
   ]
  },
  {
   "cell_type": "code",
   "execution_count": 13,
   "metadata": {},
   "outputs": [],
   "source": [
    "tran_list = []\n",
    "for i in range(0,len(df_time_partition)):\n",
    "    \n",
    "    # Data Partition\n",
    "    df_1 = df.loc[df['timestamp']==df_time_partition['timestamp'][i]]\n",
    "    #df_1 = actsenrec.loc[actsenrec['timestamp']==df_time_partition['timestamp'][i]]\n",
    "    \n",
    "    # Unweighted-undirected Network Building (weighted-directed graph)\n",
    "    G = nx.from_pandas_edgelist(df_1, 'from_address', 'to_address', 'value', nx.Graph())\n",
    "    \n",
    "    # Calculation of transitivity, \n",
    "    tran = nx.transitivity(G)\n",
    "    tran_list.append(tran)"
   ]
  },
  {
   "cell_type": "markdown",
   "metadata": {},
   "source": [
    "#### h. Eigenvector Centrality"
   ]
  },
  {
   "cell_type": "code",
   "execution_count": 14,
   "metadata": {},
   "outputs": [],
   "source": [
    "eigmean = []\n",
    "eigstd = []\n",
    "for i in range(0,len(df_time_partition)):\n",
    "    \n",
    "    # Data Partition\n",
    "    df_1 = df.loc[df['timestamp']==df_time_partition['timestamp'][i]]\n",
    "    #df_1 = actsenrec.loc[actsenrec['timestamp']==df_time_partition['timestamp'][i]]\n",
    "    \n",
    "    # MultiDi Network Building (weighted-directed graph)\n",
    "    G = nx.from_pandas_edgelist(df_1, 'from_address', 'to_address', 'value', nx.Graph())\n",
    "    \n",
    "    # Calculation of Closeness_centrality, mean_value\n",
    "    eig_cen = nx.eigenvector_centrality(G, max_iter=20000)\n",
    "    df_eig = pd.DataFrame.from_dict(eig_cen, orient='index', columns=['eigenvector_centrality'])\n",
    "    eig_mean = df_eig['eigenvector_centrality'].mean()\n",
    "    eig_std = df_eig['eigenvector_centrality'].std()\n",
    "    eigmean.append(eig_mean)\n",
    "    eigstd.append(eig_std)"
   ]
  },
  {
   "cell_type": "markdown",
   "metadata": {},
   "source": [
    "#### i. Closeness Centrality"
   ]
  },
  {
   "cell_type": "code",
   "execution_count": 15,
   "metadata": {},
   "outputs": [],
   "source": [
    "CCmean = []\n",
    "CCstd = []\n",
    "for i in range(0,len(df_time_partition)):\n",
    "    \n",
    "    # Data Partition\n",
    "    df_1 = df.loc[df['timestamp']==df_time_partition['timestamp'][i]]\n",
    "    \n",
    "    # MultiDi Network Building (weighted-directed graph)\n",
    "    G = nx.from_pandas_edgelist(df_1, 'from_address', 'to_address', 'value', nx.Graph())\n",
    "    \n",
    "    # Calculation of Closeness_centrality, mean_value\n",
    "    close_cen = nx.closeness_centrality(G)\n",
    "    df_close = pd.DataFrame.from_dict(close_cen, orient='index', columns=['Closeness_Centrality'])\n",
    "    CC_mean = df_close['Closeness_Centrality'].mean()\n",
    "    CC_std = df_close['Closeness_Centrality'].std()\n",
    "    CCmean.append(CC_mean)\n",
    "    CCstd.append(CC_std)"
   ]
  },
  {
   "cell_type": "markdown",
   "metadata": {},
   "source": [
    "#### j. Number of components"
   ]
  },
  {
   "cell_type": "code",
   "execution_count": 16,
   "metadata": {},
   "outputs": [],
   "source": [
    "components_cnt = []\n",
    "for i in range(0,len(df_time_partition)):\n",
    "    df_1 = df.loc[df['timestamp']==df_time_partition['timestamp'][i]]\n",
    "    G = nx.from_pandas_edgelist(df_1, 'from_address', 'to_address', 'value', nx.Graph())\n",
    "    com_cnt = nx.number_connected_components(G)\n",
    "    components_cnt.append(com_cnt)"
   ]
  },
  {
   "cell_type": "markdown",
   "metadata": {},
   "source": [
    "#### k. Size of gaint component / num of nodes"
   ]
  },
  {
   "cell_type": "code",
   "execution_count": 17,
   "metadata": {},
   "outputs": [],
   "source": [
    "giant_com_ratio = []\n",
    "for i in range(0,len(df_time_partition)):\n",
    "    df_1 = df.loc[df['timestamp']==df_time_partition['timestamp'][i]]\n",
    "    G = nx.from_pandas_edgelist(df_1, 'from_address', 'to_address', 'value', nx.Graph())\n",
    "# G = nx.Graph()\n",
    "    Gcc = sorted(nx.connected_components(G), key=len, reverse=True)\n",
    "    G0 = G.subgraph(Gcc[0])\n",
    "#com_cnt = nx.number_connected_components(G)\n",
    "#components_cnt.append(com_cnt)\n",
    "    nodes = G0.number_of_nodes()\n",
    "    nodes_whole = G.number_of_nodes()\n",
    "    ratio = nodes/nodes_whole\n",
    "    giant_com_ratio.append(ratio)"
   ]
  },
  {
   "cell_type": "code",
   "execution_count": 18,
   "metadata": {},
   "outputs": [
    {
     "data": {
      "text/html": [
       "<div>\n",
       "<style scoped>\n",
       "    .dataframe tbody tr th:only-of-type {\n",
       "        vertical-align: middle;\n",
       "    }\n",
       "\n",
       "    .dataframe tbody tr th {\n",
       "        vertical-align: top;\n",
       "    }\n",
       "\n",
       "    .dataframe thead th {\n",
       "        text-align: right;\n",
       "    }\n",
       "</style>\n",
       "<table border=\"1\" class=\"dataframe\">\n",
       "  <thead>\n",
       "    <tr style=\"text-align: right;\">\n",
       "      <th></th>\n",
       "      <th>num_nodes</th>\n",
       "      <th>num_edges</th>\n",
       "      <th>time</th>\n",
       "      <th>Degree mean</th>\n",
       "      <th>Degree std</th>\n",
       "      <th>Top10Degree mean</th>\n",
       "      <th>Top10Degree std</th>\n",
       "      <th>Top10 Degree mean ratio</th>\n",
       "      <th>DCmean</th>\n",
       "      <th>DCstd</th>\n",
       "      <th>...</th>\n",
       "      <th>clusterstd</th>\n",
       "      <th>modularity</th>\n",
       "      <th>transitivity</th>\n",
       "      <th>eig_mean</th>\n",
       "      <th>eig_std</th>\n",
       "      <th>closenessmean</th>\n",
       "      <th>closenessstd</th>\n",
       "      <th>Components_cnt</th>\n",
       "      <th>giant_com_ratio</th>\n",
       "      <th>token</th>\n",
       "    </tr>\n",
       "  </thead>\n",
       "  <tbody>\n",
       "    <tr>\n",
       "      <th>0</th>\n",
       "      <td>702</td>\n",
       "      <td>807</td>\n",
       "      <td>1/01/2022</td>\n",
       "      <td>2.299145</td>\n",
       "      <td>6.246617</td>\n",
       "      <td>38.1</td>\n",
       "      <td>36.336238</td>\n",
       "      <td>16.571375</td>\n",
       "      <td>0.003280</td>\n",
       "      <td>0.008911</td>\n",
       "      <td>...</td>\n",
       "      <td>0.067652</td>\n",
       "      <td>0.757362</td>\n",
       "      <td>0.001019</td>\n",
       "      <td>0.014117</td>\n",
       "      <td>0.035028</td>\n",
       "      <td>0.140053</td>\n",
       "      <td>0.071031</td>\n",
       "      <td>57</td>\n",
       "      <td>0.813390</td>\n",
       "      <td>AAVE</td>\n",
       "    </tr>\n",
       "    <tr>\n",
       "      <th>1</th>\n",
       "      <td>522</td>\n",
       "      <td>612</td>\n",
       "      <td>1/02/2022</td>\n",
       "      <td>2.344828</td>\n",
       "      <td>5.278779</td>\n",
       "      <td>30.9</td>\n",
       "      <td>23.946468</td>\n",
       "      <td>13.177941</td>\n",
       "      <td>0.004501</td>\n",
       "      <td>0.010132</td>\n",
       "      <td>...</td>\n",
       "      <td>0.078656</td>\n",
       "      <td>0.761401</td>\n",
       "      <td>0.001114</td>\n",
       "      <td>0.016946</td>\n",
       "      <td>0.040394</td>\n",
       "      <td>0.150175</td>\n",
       "      <td>0.064853</td>\n",
       "      <td>31</td>\n",
       "      <td>0.865900</td>\n",
       "      <td>AAVE</td>\n",
       "    </tr>\n",
       "    <tr>\n",
       "      <th>2</th>\n",
       "      <td>628</td>\n",
       "      <td>740</td>\n",
       "      <td>1/03/2022</td>\n",
       "      <td>2.356688</td>\n",
       "      <td>5.762456</td>\n",
       "      <td>36.2</td>\n",
       "      <td>28.700755</td>\n",
       "      <td>15.360541</td>\n",
       "      <td>0.003759</td>\n",
       "      <td>0.009191</td>\n",
       "      <td>...</td>\n",
       "      <td>0.083775</td>\n",
       "      <td>0.757652</td>\n",
       "      <td>0.001052</td>\n",
       "      <td>0.015554</td>\n",
       "      <td>0.036778</td>\n",
       "      <td>0.136294</td>\n",
       "      <td>0.067145</td>\n",
       "      <td>48</td>\n",
       "      <td>0.829618</td>\n",
       "      <td>AAVE</td>\n",
       "    </tr>\n",
       "    <tr>\n",
       "      <th>3</th>\n",
       "      <td>1061</td>\n",
       "      <td>1506</td>\n",
       "      <td>1/04/2022</td>\n",
       "      <td>2.838831</td>\n",
       "      <td>6.846803</td>\n",
       "      <td>61.9</td>\n",
       "      <td>26.366856</td>\n",
       "      <td>21.804748</td>\n",
       "      <td>0.002678</td>\n",
       "      <td>0.006459</td>\n",
       "      <td>...</td>\n",
       "      <td>0.116261</td>\n",
       "      <td>0.713203</td>\n",
       "      <td>0.006518</td>\n",
       "      <td>0.014171</td>\n",
       "      <td>0.027247</td>\n",
       "      <td>0.155349</td>\n",
       "      <td>0.064463</td>\n",
       "      <td>57</td>\n",
       "      <td>0.874647</td>\n",
       "      <td>AAVE</td>\n",
       "    </tr>\n",
       "    <tr>\n",
       "      <th>4</th>\n",
       "      <td>403</td>\n",
       "      <td>444</td>\n",
       "      <td>1/05/2022</td>\n",
       "      <td>2.203474</td>\n",
       "      <td>3.394213</td>\n",
       "      <td>19.9</td>\n",
       "      <td>8.659613</td>\n",
       "      <td>9.031194</td>\n",
       "      <td>0.005481</td>\n",
       "      <td>0.008443</td>\n",
       "      <td>...</td>\n",
       "      <td>0.018996</td>\n",
       "      <td>0.774826</td>\n",
       "      <td>0.005263</td>\n",
       "      <td>0.021098</td>\n",
       "      <td>0.045181</td>\n",
       "      <td>0.133133</td>\n",
       "      <td>0.062907</td>\n",
       "      <td>31</td>\n",
       "      <td>0.833747</td>\n",
       "      <td>AAVE</td>\n",
       "    </tr>\n",
       "  </tbody>\n",
       "</table>\n",
       "<p>5 rows × 21 columns</p>\n",
       "</div>"
      ],
      "text/plain": [
       "   num_nodes  num_edges       time  Degree mean  Degree std  Top10Degree mean  \\\n",
       "0        702        807  1/01/2022     2.299145    6.246617              38.1   \n",
       "1        522        612  1/02/2022     2.344828    5.278779              30.9   \n",
       "2        628        740  1/03/2022     2.356688    5.762456              36.2   \n",
       "3       1061       1506  1/04/2022     2.838831    6.846803              61.9   \n",
       "4        403        444  1/05/2022     2.203474    3.394213              19.9   \n",
       "\n",
       "   Top10Degree std  Top10 Degree mean ratio    DCmean     DCstd  ...  \\\n",
       "0        36.336238                16.571375  0.003280  0.008911  ...   \n",
       "1        23.946468                13.177941  0.004501  0.010132  ...   \n",
       "2        28.700755                15.360541  0.003759  0.009191  ...   \n",
       "3        26.366856                21.804748  0.002678  0.006459  ...   \n",
       "4         8.659613                 9.031194  0.005481  0.008443  ...   \n",
       "\n",
       "   clusterstd  modularity  transitivity  eig_mean   eig_std  closenessmean  \\\n",
       "0    0.067652    0.757362      0.001019  0.014117  0.035028       0.140053   \n",
       "1    0.078656    0.761401      0.001114  0.016946  0.040394       0.150175   \n",
       "2    0.083775    0.757652      0.001052  0.015554  0.036778       0.136294   \n",
       "3    0.116261    0.713203      0.006518  0.014171  0.027247       0.155349   \n",
       "4    0.018996    0.774826      0.005263  0.021098  0.045181       0.133133   \n",
       "\n",
       "   closenessstd  Components_cnt  giant_com_ratio  token  \n",
       "0      0.071031              57         0.813390   AAVE  \n",
       "1      0.064853              31         0.865900   AAVE  \n",
       "2      0.067145              48         0.829618   AAVE  \n",
       "3      0.064463              57         0.874647   AAVE  \n",
       "4      0.062907              31         0.833747   AAVE  \n",
       "\n",
       "[5 rows x 21 columns]"
      ]
     },
     "execution_count": 18,
     "metadata": {},
     "output_type": "execute_result"
    }
   ],
   "source": [
    "Network_Features['DCmean']=DCmean\n",
    "Network_Features['DCstd']=DCstd\n",
    "Network_Features['clustermean']=clustermean\n",
    "Network_Features['clusterstd']=clusterstd\n",
    "Network_Features['modularity']=mod_list\n",
    "Network_Features['transitivity']=tran_list\n",
    "Network_Features['eig_mean']=eigmean\n",
    "Network_Features['eig_std']=eigstd\n",
    "Network_Features['closenessmean']=CCmean\n",
    "Network_Features['closenessstd']=CCstd\n",
    "Network_Features['Components_cnt']=components_cnt\n",
    "Network_Features['giant_com_ratio']=giant_com_ratio\n",
    "\n",
    "Network_Features['token'] =  'AAVE'\n",
    "Network_Features.head()"
   ]
  },
  {
   "cell_type": "markdown",
   "metadata": {},
   "source": [
    "#### Output network features dataset"
   ]
  },
  {
   "cell_type": "code",
   "execution_count": 19,
   "metadata": {},
   "outputs": [],
   "source": [
    "Network_Features.to_csv('Output_Data/AAVE_Network_Features_New.csv')"
   ]
  },
  {
   "cell_type": "markdown",
   "metadata": {},
   "source": [
    "### 2. Core-periphery Analysis"
   ]
  },
  {
   "cell_type": "markdown",
   "metadata": {},
   "source": [
    "#### a. Basic structure significance test"
   ]
  },
  {
   "cell_type": "markdown",
   "metadata": {},
   "source": [
    "##### Save the significant testing results for each day during the 1-year period"
   ]
  },
  {
   "cell_type": "code",
   "execution_count": null,
   "metadata": {},
   "outputs": [],
   "source": [
    "# loop to get the p-value for every day of transactions\n",
    "p_value_list = []\n",
    "\n",
    "for i in range(0, 365):\n",
    "    df_1 = df.loc[df['timestamp']==df_time_partition['timestamp'][i]]\n",
    "    G = nx.from_pandas_edgelist(df_1, 'from_address', 'to_address', 'value', nx.Graph())\n",
    "\n",
    "    alg = cpnet.BE() # BE algorithm\n",
    "    alg.detect(G)\n",
    "    c = alg.get_pair_id()\n",
    "    x = alg.get_coreness()  # Get the coreness of nodes\n",
    "\n",
    "    sig_c, sig_x, significant, p_values = cpnet.qstest(\n",
    "        c, x, G, alg, significance_level=0.05, num_of_rand_net=100, num_of_thread=16)\n",
    "\n",
    "    p_value_list.append(p_values)"
   ]
  },
  {
   "cell_type": "code",
   "execution_count": null,
   "metadata": {},
   "outputs": [],
   "source": [
    "# create a dataframe to store cpnet testing results\n",
    "df_cp_test = pd.DataFrame(df['timestamp'].unique(), columns = [\"date\"])\n",
    "df_cp_test[\"p_value\"] = p_value_list\n",
    "\n",
    "# save the cp test results to csv\n",
    "# df_cp_test.to_csv(\"Existing_Data/cp_test_results.csv\", index = False) # outputs on existing dataset \n",
    "df_cp_test.to_csv(\"Output_Data/cp_test_results_new.csv\", index = False) # outputs on new dataset"
   ]
  },
  {
   "cell_type": "markdown",
   "metadata": {},
   "source": [
    "#### b. Continuous structure significance test"
   ]
  },
  {
   "cell_type": "code",
   "execution_count": 25,
   "metadata": {},
   "outputs": [
    {
     "name": "stderr",
     "output_type": "stream",
     "text": [
      "d:\\ProgramData\\Anaconda3\\lib\\site-packages\\cpnet\\qstest.py:94: UserWarning: 'num_of_thread keyword' is duplicated due to a compatibility issue with numba. Only one CPU will be used.\n",
      "  warnings.warn(\"'num_of_thread keyword' is duplicated due to a compatibility issue with numba. Only one CPU will be used.\")\n",
      "100%|██████████| 100/100 [00:03<00:00, 26.80it/s]\n"
     ]
    }
   ],
   "source": [
    "df_1 = df.loc[df['timestamp']==df_time_partition['timestamp'][29]]\n",
    "G = nx.from_pandas_edgelist(df_1, 'from_address', 'to_address', 'value', nx.Graph())\n",
    "    \n",
    "# Calculation of mean&std of coreness (continuous structure)\n",
    "alg = cpnet.MINRES()\n",
    "alg.detect(G)\n",
    "c = alg.get_pair_id()\n",
    "x = alg.get_coreness() \n",
    "\n",
    "sig_c, sig_x, significant, p_values = cpnet.qstest(\n",
    "    c, x, G, alg, significance_level=0.05, num_of_rand_net=100, num_of_thread=16)"
   ]
  },
  {
   "cell_type": "code",
   "execution_count": 26,
   "metadata": {},
   "outputs": [
    {
     "name": "stdout",
     "output_type": "stream",
     "text": [
      "[False]\n",
      "[0.5389535090230269]\n"
     ]
    }
   ],
   "source": [
    "# check the results\n",
    "print(significant)\n",
    "print(p_values)"
   ]
  },
  {
   "cell_type": "markdown",
   "metadata": {},
   "source": [
    "#### c. Core-periphery Network Graph (using basic structure significance test results)"
   ]
  },
  {
   "cell_type": "markdown",
   "metadata": {},
   "source": [
    "##### Core-periphery Network plot for significant day"
   ]
  },
  {
   "cell_type": "code",
   "execution_count": 27,
   "metadata": {},
   "outputs": [
    {
     "name": "stderr",
     "output_type": "stream",
     "text": [
      "100%|██████████| 100/100 [12:07<00:00,  7.27s/it]\n"
     ]
    }
   ],
   "source": [
    "df_1 = df.loc[df['timestamp']==df_time_partition['timestamp'][29]] # significant day (p_value < 0.05)\n",
    "G = nx.from_pandas_edgelist(df_1, 'from_address', 'to_address', 'value', nx.Graph())\n",
    "\n",
    "alg = cpnet.BE()\n",
    "alg.detect(G)\n",
    "c = alg.get_pair_id()\n",
    "x = alg.get_coreness()  # Get the coreness of nodes\n",
    "\n",
    "sig_c, sig_x, significant, p_values = cpnet.qstest(\n",
    "    c, x, G, alg, significance_level=0.05, num_of_rand_net=100, num_of_thread=16)"
   ]
  },
  {
   "cell_type": "code",
   "execution_count": 28,
   "metadata": {},
   "outputs": [
    {
     "data": {
      "image/png": "[encoded data removed]",
      "text/plain": [
       "<Figure size 1008x864 with 1 Axes>"
      ]
     },
     "metadata": {},
     "output_type": "display_data"
    }
   ],
   "source": [
    "pos = nx.spiral_layout(G,scale = 3)\n",
    "fig = plt.figure(figsize=(14, 12))\n",
    "ax = plt.gca()\n",
    "draw_nodes_kwd = {\"node_size\": 80, \"linewidths\": 0.8}\n",
    "ax, pos = cpnet.draw(G, sig_c, sig_x, ax,draw_nodes_kwd=draw_nodes_kwd) # cpnet==0.0.21\n",
    "\n",
    "# ax, pos = cpnet.draw(G, sig_c, sig_x, ax,draw_nodes_kwd=draw_nodes_kwd,\n",
    "#                      layout_kwd = {\"verbose\":True, \"iterations\":500}) # cpnet==0.0.20"
   ]
  },
  {
   "cell_type": "markdown",
   "metadata": {},
   "source": [
    "##### Core-periphery Network plot for insignificant day"
   ]
  },
  {
   "cell_type": "code",
   "execution_count": 32,
   "metadata": {},
   "outputs": [
    {
     "name": "stderr",
     "output_type": "stream",
     "text": [
      "100%|██████████| 100/100 [49:30<00:00, 29.71s/it]\n"
     ]
    }
   ],
   "source": [
    "df_1 = df.loc[df['timestamp']==df_time_partition['timestamp'][247]] # insignificant day (p_value > 0.05)\n",
    "G = nx.from_pandas_edgelist(df_1, 'from_address', 'to_address', 'value', nx.Graph())\n",
    "\n",
    "alg = cpnet.BE()\n",
    "alg.detect(G)\n",
    "c = alg.get_pair_id()\n",
    "x = alg.get_coreness()  # Get the coreness of nodes\n",
    "\n",
    "sig_c, sig_x, significant, p_values = cpnet.qstest(\n",
    "    c, x, G, alg, significance_level=0.05, num_of_rand_net=100, num_of_thread=16)"
   ]
  },
  {
   "cell_type": "code",
   "execution_count": 42,
   "metadata": {},
   "outputs": [
    {
     "data": {
      "image/png": "[encoded data removed]",
      "text/plain": [
       "<Figure size 1008x864 with 1 Axes>"
      ]
     },
     "metadata": {},
     "output_type": "display_data"
    }
   ],
   "source": [
    "pos = nx.spiral_layout(G,scale = 6) # default scale 3\n",
    "fig = plt.figure(figsize=(14, 12))\n",
    "ax = plt.gca()\n",
    "# draw_nodes_kwd = {\"node_size\": 80, \"linewidths\": 0.8}\n",
    "draw_nodes_kwd = {\"node_size\": 100, \"linewidths\": 0.1}\n",
    "ax, pos = cpnet.draw(G, sig_c, sig_x, ax,draw_nodes_kwd=draw_nodes_kwd) # cpnet==0.0.21\n",
    "\n",
    "# ax, pos = cpnet.draw(G, sig_c, sig_x, ax,draw_nodes_kwd=draw_nodes_kwd,\n",
    "#                      layout_kwd = {\"verbose\":True, \"iterations\":500}) # cpnet==0.0.20"
   ]
  },
  {
   "cell_type": "markdown",
   "metadata": {},
   "source": [
    "#### d. Output core addresses and corresponding date counts"
   ]
  },
  {
   "cell_type": "code",
   "execution_count": null,
   "metadata": {},
   "outputs": [],
   "source": [
    "core_address = []\n",
    "a = 0\n",
    "for i in range(0,len(df_time_partition)):\n",
    "    df_1 = df.loc[df['timestamp']==df_time_partition['timestamp'][i]]\n",
    "    G = nx.from_pandas_edgelist(df_1, 'from_address', 'to_address', 'value', nx.Graph())\n",
    "    alg = cpnet.BE()\n",
    "    alg.detect(G)\n",
    "    c = alg.get_pair_id()\n",
    "    x = alg.get_coreness()\n",
    "\n",
    "    coredf = pd.DataFrame.from_dict(x, orient='index',columns=['coreness'])\n",
    "    core = coredf[coredf['coreness']==1].index.tolist()\n",
    "    core_address.extend(core)\n",
    "    a+=1\n",
    "    print(a)"
   ]
  },
  {
   "cell_type": "code",
   "execution_count": 26,
   "metadata": {},
   "outputs": [
    {
     "data": {
      "text/html": [
       "<div>\n",
       "<style scoped>\n",
       "    .dataframe tbody tr th:only-of-type {\n",
       "        vertical-align: middle;\n",
       "    }\n",
       "\n",
       "    .dataframe tbody tr th {\n",
       "        vertical-align: top;\n",
       "    }\n",
       "\n",
       "    .dataframe thead th {\n",
       "        text-align: right;\n",
       "    }\n",
       "</style>\n",
       "<table border=\"1\" class=\"dataframe\">\n",
       "  <thead>\n",
       "    <tr style=\"text-align: right;\">\n",
       "      <th></th>\n",
       "      <th>index</th>\n",
       "      <th>0</th>\n",
       "    </tr>\n",
       "  </thead>\n",
       "  <tbody>\n",
       "    <tr>\n",
       "      <th>0</th>\n",
       "      <td>0xddfabcdc4d8ffc6d5beaf154f18b778f892a0740</td>\n",
       "      <td>356</td>\n",
       "    </tr>\n",
       "    <tr>\n",
       "      <th>1</th>\n",
       "      <td>0x28c6c06298d514db089934071355e5743bf21d60</td>\n",
       "      <td>258</td>\n",
       "    </tr>\n",
       "    <tr>\n",
       "      <th>2</th>\n",
       "      <td>0x4da27a545c0c5b758a6ba100e3a049001de870f5</td>\n",
       "      <td>221</td>\n",
       "    </tr>\n",
       "    <tr>\n",
       "      <th>3</th>\n",
       "      <td>0x5ab53ee1d50eef2c1dd3d5402789cd27bb52c1bb</td>\n",
       "      <td>201</td>\n",
       "    </tr>\n",
       "    <tr>\n",
       "      <th>4</th>\n",
       "      <td>0xd75ea151a61d06868e31f8988d28dfe5e9df57b4</td>\n",
       "      <td>195</td>\n",
       "    </tr>\n",
       "  </tbody>\n",
       "</table>\n",
       "</div>"
      ],
      "text/plain": [
       "                                        index    0\n",
       "0  0xddfabcdc4d8ffc6d5beaf154f18b778f892a0740  356\n",
       "1  0x28c6c06298d514db089934071355e5743bf21d60  258\n",
       "2  0x4da27a545c0c5b758a6ba100e3a049001de870f5  221\n",
       "3  0x5ab53ee1d50eef2c1dd3d5402789cd27bb52c1bb  201\n",
       "4  0xd75ea151a61d06868e31f8988d28dfe5e9df57b4  195"
      ]
     },
     "execution_count": 26,
     "metadata": {},
     "output_type": "execute_result"
    }
   ],
   "source": [
    "cores = pd.DataFrame(core_address)\n",
    "core_cnt = cores[0].value_counts(ascending=False).reset_index()\n",
    "core_cnt.head()"
   ]
  },
  {
   "cell_type": "code",
   "execution_count": 27,
   "metadata": {},
   "outputs": [],
   "source": [
    "core_cnt.to_csv('Output_Data/core_date_cnt_new.csv')"
   ]
  },
  {
   "cell_type": "markdown",
   "metadata": {},
   "source": [
    "#### e. Number of core members each day"
   ]
  },
  {
   "cell_type": "code",
   "execution_count": 20,
   "metadata": {},
   "outputs": [],
   "source": [
    "core_cnt = []\n",
    "for i in range(0,len(df_time_partition)):\n",
    "    df_1 = df.loc[df['timestamp']==df_time_partition['timestamp'][i]]\n",
    "    G = nx.from_pandas_edgelist(df_1, 'from_address', 'to_address', 'value', nx.Graph())\n",
    "    alg = cpnet.BE()\n",
    "    alg.detect(G)\n",
    "    c = alg.get_pair_id()\n",
    "    x = alg.get_coreness()\n",
    "\n",
    "    coredf = pd.DataFrame.from_dict(x, orient='index',columns=['coreness'])\n",
    "    core = coredf[coredf['coreness']==1].index.tolist()\n",
    "    cnt = len(core)\n",
    "    core_cnt.append(cnt)"
   ]
  },
  {
   "cell_type": "markdown",
   "metadata": {},
   "source": [
    "#### f. Average number of neighbors of cores"
   ]
  },
  {
   "cell_type": "code",
   "execution_count": 21,
   "metadata": {},
   "outputs": [],
   "source": [
    "from numpy import *\n",
    "avg_core_neighbor = []\n",
    "\n",
    "for i in range(0,len(df_time_partition)):\n",
    "    df_1 = df.loc[df['timestamp']==df_time_partition['timestamp'][i]]\n",
    "    G = nx.from_pandas_edgelist(df_1, 'from_address', 'to_address', 'value', nx.Graph())\n",
    "    alg = cpnet.BE()\n",
    "    alg.detect(G)\n",
    "    c = alg.get_pair_id()\n",
    "    x = alg.get_coreness()\n",
    "\n",
    "    coredf = pd.DataFrame.from_dict(x, orient='index',columns=['coreness'])\n",
    "    core = coredf[coredf['coreness']==1].index.tolist()\n",
    "\n",
    "    neighbor_cnt = []\n",
    "    for i in range (0,len(core)):\n",
    "        neighbor = G.degree(core[i])\n",
    "        neighbor_cnt.append(neighbor)\n",
    "    \n",
    "    neighbor_cnt_mean = mean(neighbor_cnt)\n",
    "    avg_core_neighbor.append(neighbor_cnt_mean)"
   ]
  },
  {
   "cell_type": "markdown",
   "metadata": {},
   "source": [
    "#### g. Update Network Features dataset"
   ]
  },
  {
   "cell_type": "code",
   "execution_count": 22,
   "metadata": {},
   "outputs": [],
   "source": [
    "Network_Features = pd.read_csv('Output_Data/AAVE_Network_Features_New.csv')\n",
    "Network_Features['core_cnt']=core_cnt\n",
    "Network_Features['core_ratio']=Network_Features['core_cnt']/Network_Features['num_nodes']\n",
    "Network_Features['avg_core_neighbor']=avg_core_neighbor"
   ]
  },
  {
   "cell_type": "code",
   "execution_count": 23,
   "metadata": {},
   "outputs": [
    {
     "name": "stderr",
     "output_type": "stream",
     "text": [
      "<ipython-input-23-7c9150d12c27>:3: SettingWithCopyWarning: \n",
      "A value is trying to be set on a copy of a slice from a DataFrame\n",
      "\n",
      "See the caveats in the documentation: https://pandas.pydata.org/pandas-docs/stable/user_guide/indexing.html#returning-a-view-versus-a-copy\n",
      "  Network_Features['core_cnt'][230]=2\n",
      "<ipython-input-23-7c9150d12c27>:4: SettingWithCopyWarning: \n",
      "A value is trying to be set on a copy of a slice from a DataFrame\n",
      "\n",
      "See the caveats in the documentation: https://pandas.pydata.org/pandas-docs/stable/user_guide/indexing.html#returning-a-view-versus-a-copy\n",
      "  Network_Features['core_ratio'][230] = 2/Network_Features['num_nodes'][230]\n",
      "<ipython-input-23-7c9150d12c27>:5: SettingWithCopyWarning: \n",
      "A value is trying to be set on a copy of a slice from a DataFrame\n",
      "\n",
      "See the caveats in the documentation: https://pandas.pydata.org/pandas-docs/stable/user_guide/indexing.html#returning-a-view-versus-a-copy\n",
      "  Network_Features['avg_core_neighbor'][230] = 217.8\n"
     ]
    }
   ],
   "source": [
    "# Deal with the outlier\n",
    "# average of past 5 days\n",
    "Network_Features['core_cnt'][230]=2\n",
    "Network_Features['core_ratio'][230] = 2/Network_Features['num_nodes'][230]\n",
    "Network_Features['avg_core_neighbor'][230] = 217.8"
   ]
  },
  {
   "cell_type": "markdown",
   "metadata": {},
   "source": [
    "##### updated the Network Feature csv file"
   ]
  },
  {
   "cell_type": "code",
   "execution_count": 24,
   "metadata": {},
   "outputs": [],
   "source": [
    "Network_Features.to_csv('Output_Data/AAVE_Network_Features_Updated.csv')"
   ]
  }
 ],
 "metadata": {
  "kernelspec": {
   "display_name": "Python 3.8.5 64-bit (conda)",
   "language": "python",
   "name": "python3"
  },
  "language_info": {
   "codemirror_mode": {
    "name": "ipython",
    "version": 3
   },
   "file_extension": ".py",
   "mimetype": "text/x-python",
   "name": "python",
   "nbconvert_exporter": "python",
   "pygments_lexer": "ipython3",
   "version": "3.8.5"
  },
  "orig_nbformat": 4,
  "vscode": {
   "interpreter": {
    "hash": "e42634819b8c191a5d07eaf23810ff32516dd8d3875f28ec3e488928fbd3c187"
   }
  }
 },
 "nbformat": 4,
 "nbformat_minor": 2
}
